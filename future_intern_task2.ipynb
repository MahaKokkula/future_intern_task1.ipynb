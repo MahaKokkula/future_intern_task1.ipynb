{
 "cells": [
  {
   "cell_type": "markdown",
   "id": "1107e759-ae78-42d0-9419-af62cd838b54",
   "metadata": {},
   "source": [
    "# Statistical Implementation on Tips Data"
   ]
  },
  {
   "cell_type": "markdown",
   "id": "26fe2c0a-3e87-40d6-8f25-1f7d60ee4bf3",
   "metadata": {},
   "source": [
    "## Importing Libraries"
   ]
  },
  {
   "cell_type": "code",
   "execution_count": 126,
   "id": "d5f981cb-367e-4354-ae0c-e0d151cf6e16",
   "metadata": {},
   "outputs": [],
   "source": [
    "import seaborn as sns\n",
    "import pandas as pd\n",
    "import statistics\n",
    "import matplotlib.pyplot as plt"
   ]
  },
  {
   "cell_type": "markdown",
   "id": "0500afc0-d768-45c6-9b21-d1f0c8ad9b02",
   "metadata": {},
   "source": [
    "## Importing Data Set"
   ]
  },
  {
   "cell_type": "code",
   "execution_count": 81,
   "id": "924ed22d-25d5-448d-b66d-2889db745861",
   "metadata": {},
   "outputs": [
    {
     "data": {
      "text/html": [
       "<div>\n",
       "<style scoped>\n",
       "    .dataframe tbody tr th:only-of-type {\n",
       "        vertical-align: middle;\n",
       "    }\n",
       "\n",
       "    .dataframe tbody tr th {\n",
       "        vertical-align: top;\n",
       "    }\n",
       "\n",
       "    .dataframe thead th {\n",
       "        text-align: right;\n",
       "    }\n",
       "</style>\n",
       "<table border=\"1\" class=\"dataframe\">\n",
       "  <thead>\n",
       "    <tr style=\"text-align: right;\">\n",
       "      <th></th>\n",
       "      <th>total_bill</th>\n",
       "      <th>tip</th>\n",
       "      <th>sex</th>\n",
       "      <th>smoker</th>\n",
       "      <th>day</th>\n",
       "      <th>time</th>\n",
       "      <th>size</th>\n",
       "    </tr>\n",
       "  </thead>\n",
       "  <tbody>\n",
       "    <tr>\n",
       "      <th>0</th>\n",
       "      <td>16.99</td>\n",
       "      <td>1.01</td>\n",
       "      <td>Female</td>\n",
       "      <td>No</td>\n",
       "      <td>Sun</td>\n",
       "      <td>Dinner</td>\n",
       "      <td>2</td>\n",
       "    </tr>\n",
       "    <tr>\n",
       "      <th>1</th>\n",
       "      <td>10.34</td>\n",
       "      <td>1.66</td>\n",
       "      <td>Male</td>\n",
       "      <td>No</td>\n",
       "      <td>Sun</td>\n",
       "      <td>Dinner</td>\n",
       "      <td>3</td>\n",
       "    </tr>\n",
       "    <tr>\n",
       "      <th>2</th>\n",
       "      <td>21.01</td>\n",
       "      <td>3.50</td>\n",
       "      <td>Male</td>\n",
       "      <td>No</td>\n",
       "      <td>Sun</td>\n",
       "      <td>Dinner</td>\n",
       "      <td>3</td>\n",
       "    </tr>\n",
       "    <tr>\n",
       "      <th>3</th>\n",
       "      <td>23.68</td>\n",
       "      <td>3.31</td>\n",
       "      <td>Male</td>\n",
       "      <td>No</td>\n",
       "      <td>Sun</td>\n",
       "      <td>Dinner</td>\n",
       "      <td>2</td>\n",
       "    </tr>\n",
       "    <tr>\n",
       "      <th>4</th>\n",
       "      <td>24.59</td>\n",
       "      <td>3.61</td>\n",
       "      <td>Female</td>\n",
       "      <td>No</td>\n",
       "      <td>Sun</td>\n",
       "      <td>Dinner</td>\n",
       "      <td>4</td>\n",
       "    </tr>\n",
       "  </tbody>\n",
       "</table>\n",
       "</div>"
      ],
      "text/plain": [
       "   total_bill   tip     sex smoker  day    time  size\n",
       "0       16.99  1.01  Female     No  Sun  Dinner     2\n",
       "1       10.34  1.66    Male     No  Sun  Dinner     3\n",
       "2       21.01  3.50    Male     No  Sun  Dinner     3\n",
       "3       23.68  3.31    Male     No  Sun  Dinner     2\n",
       "4       24.59  3.61  Female     No  Sun  Dinner     4"
      ]
     },
     "execution_count": 81,
     "metadata": {},
     "output_type": "execute_result"
    }
   ],
   "source": [
    "file = sns.load_dataset('tips')\n",
    "file.head()"
   ]
  },
  {
   "cell_type": "code",
   "execution_count": 82,
   "id": "755660be-41e0-47ae-8280-1961d60107e4",
   "metadata": {},
   "outputs": [
    {
     "data": {
      "text/plain": [
       "total_bill    0\n",
       "tip           0\n",
       "sex           0\n",
       "smoker        0\n",
       "day           0\n",
       "time          0\n",
       "size          0\n",
       "dtype: int64"
      ]
     },
     "execution_count": 82,
     "metadata": {},
     "output_type": "execute_result"
    }
   ],
   "source": [
    "file.isnull().sum()"
   ]
  },
  {
   "cell_type": "code",
   "execution_count": 83,
   "id": "e7299e80-74b4-4caa-9123-ec9517b20970",
   "metadata": {},
   "outputs": [
    {
     "data": {
      "text/html": [
       "<div>\n",
       "<style scoped>\n",
       "    .dataframe tbody tr th:only-of-type {\n",
       "        vertical-align: middle;\n",
       "    }\n",
       "\n",
       "    .dataframe tbody tr th {\n",
       "        vertical-align: top;\n",
       "    }\n",
       "\n",
       "    .dataframe thead th {\n",
       "        text-align: right;\n",
       "    }\n",
       "</style>\n",
       "<table border=\"1\" class=\"dataframe\">\n",
       "  <thead>\n",
       "    <tr style=\"text-align: right;\">\n",
       "      <th></th>\n",
       "      <th>total_bill</th>\n",
       "      <th>tip</th>\n",
       "      <th>size</th>\n",
       "    </tr>\n",
       "  </thead>\n",
       "  <tbody>\n",
       "    <tr>\n",
       "      <th>count</th>\n",
       "      <td>244.000000</td>\n",
       "      <td>244.000000</td>\n",
       "      <td>244.000000</td>\n",
       "    </tr>\n",
       "    <tr>\n",
       "      <th>mean</th>\n",
       "      <td>19.785943</td>\n",
       "      <td>2.998279</td>\n",
       "      <td>2.569672</td>\n",
       "    </tr>\n",
       "    <tr>\n",
       "      <th>std</th>\n",
       "      <td>8.902412</td>\n",
       "      <td>1.383638</td>\n",
       "      <td>0.951100</td>\n",
       "    </tr>\n",
       "    <tr>\n",
       "      <th>min</th>\n",
       "      <td>3.070000</td>\n",
       "      <td>1.000000</td>\n",
       "      <td>1.000000</td>\n",
       "    </tr>\n",
       "    <tr>\n",
       "      <th>25%</th>\n",
       "      <td>13.347500</td>\n",
       "      <td>2.000000</td>\n",
       "      <td>2.000000</td>\n",
       "    </tr>\n",
       "    <tr>\n",
       "      <th>50%</th>\n",
       "      <td>17.795000</td>\n",
       "      <td>2.900000</td>\n",
       "      <td>2.000000</td>\n",
       "    </tr>\n",
       "    <tr>\n",
       "      <th>75%</th>\n",
       "      <td>24.127500</td>\n",
       "      <td>3.562500</td>\n",
       "      <td>3.000000</td>\n",
       "    </tr>\n",
       "    <tr>\n",
       "      <th>max</th>\n",
       "      <td>50.810000</td>\n",
       "      <td>10.000000</td>\n",
       "      <td>6.000000</td>\n",
       "    </tr>\n",
       "  </tbody>\n",
       "</table>\n",
       "</div>"
      ],
      "text/plain": [
       "       total_bill         tip        size\n",
       "count  244.000000  244.000000  244.000000\n",
       "mean    19.785943    2.998279    2.569672\n",
       "std      8.902412    1.383638    0.951100\n",
       "min      3.070000    1.000000    1.000000\n",
       "25%     13.347500    2.000000    2.000000\n",
       "50%     17.795000    2.900000    2.000000\n",
       "75%     24.127500    3.562500    3.000000\n",
       "max     50.810000   10.000000    6.000000"
      ]
     },
     "execution_count": 83,
     "metadata": {},
     "output_type": "execute_result"
    }
   ],
   "source": [
    "file.describe()"
   ]
  },
  {
   "cell_type": "markdown",
   "id": "093704fc-2df4-4ec4-9494-e98b80be2ff7",
   "metadata": {},
   "source": [
    "## Label Encoding"
   ]
  },
  {
   "cell_type": "code",
   "execution_count": 87,
   "id": "6b9ccfb3-c3c6-4bd4-a0b4-ff1c7a0a09a7",
   "metadata": {},
   "outputs": [],
   "source": [
    "file['sex'] = file['sex'].map({\"Male\":0, \"Female\":1})\n"
   ]
  },
  {
   "cell_type": "code",
   "execution_count": 119,
   "id": "98f7bc0f-54f6-4a88-8c2e-1642b461bbc9",
   "metadata": {},
   "outputs": [
    {
     "name": "stdout",
     "output_type": "stream",
     "text": [
      "0      1\n",
      "1      0\n",
      "2      0\n",
      "3      0\n",
      "4      1\n",
      "      ..\n",
      "239    0\n",
      "240    1\n",
      "241    0\n",
      "242    0\n",
      "243    1\n",
      "Name: sex, Length: 244, dtype: int64\n"
     ]
    }
   ],
   "source": [
    "print(file['sex'])"
   ]
  },
  {
   "cell_type": "code",
   "execution_count": 89,
   "id": "429bc8fe-30cb-4942-89eb-4c189859b3f7",
   "metadata": {},
   "outputs": [],
   "source": [
    "file['sex'] = file['sex'].astype(int)"
   ]
  },
  {
   "cell_type": "code",
   "execution_count": 96,
   "id": "81a25b87-037c-43d0-8626-17e59d880080",
   "metadata": {},
   "outputs": [],
   "source": [
    "file['time'] = file['time'].map({\"Lunch\":0 , \"Dinner\":1})"
   ]
  },
  {
   "cell_type": "code",
   "execution_count": 98,
   "id": "beec3ab2-dc46-4d34-91ff-0fd779fe0bfb",
   "metadata": {},
   "outputs": [],
   "source": [
    "file['smoker'] = file['smoker'].map({\"Yes\":1 ,\"No\":0})"
   ]
  },
  {
   "cell_type": "code",
   "execution_count": 92,
   "id": "45c6efe1-07ae-4b5a-acd8-9904edaaf707",
   "metadata": {},
   "outputs": [],
   "source": [
    "file = pd.get_dummies(file, columns = ['day'], prefix = ['day'])"
   ]
  },
  {
   "cell_type": "code",
   "execution_count": 93,
   "id": "a7254ded-5578-45cf-a5b3-2e563c238df8",
   "metadata": {},
   "outputs": [
    {
     "name": "stdout",
     "output_type": "stream",
     "text": [
      "     total_bill   tip  sex smoker    time  size  day_Thur  day_Fri  day_Sat  \\\n",
      "0         16.99  1.01    1     No  Dinner     2     False    False    False   \n",
      "1         10.34  1.66    0     No  Dinner     3     False    False    False   \n",
      "2         21.01  3.50    0     No  Dinner     3     False    False    False   \n",
      "3         23.68  3.31    0     No  Dinner     2     False    False    False   \n",
      "4         24.59  3.61    1     No  Dinner     4     False    False    False   \n",
      "..          ...   ...  ...    ...     ...   ...       ...      ...      ...   \n",
      "239       29.03  5.92    0     No  Dinner     3     False    False     True   \n",
      "240       27.18  2.00    1    Yes  Dinner     2     False    False     True   \n",
      "241       22.67  2.00    0    Yes  Dinner     2     False    False     True   \n",
      "242       17.82  1.75    0     No  Dinner     2     False    False     True   \n",
      "243       18.78  3.00    1     No  Dinner     2      True    False    False   \n",
      "\n",
      "     day_Sun  \n",
      "0       True  \n",
      "1       True  \n",
      "2       True  \n",
      "3       True  \n",
      "4       True  \n",
      "..       ...  \n",
      "239    False  \n",
      "240    False  \n",
      "241    False  \n",
      "242    False  \n",
      "243    False  \n",
      "\n",
      "[244 rows x 10 columns]\n"
     ]
    }
   ],
   "source": [
    "print(file)"
   ]
  },
  {
   "cell_type": "markdown",
   "id": "740f0c27-ec92-4576-a23d-7f7a4a1027cf",
   "metadata": {},
   "source": [
    "## One Hot Encoding"
   ]
  },
  {
   "cell_type": "code",
   "execution_count": 94,
   "id": "b5a99400-21ac-4cbd-8f44-c693fef23eea",
   "metadata": {},
   "outputs": [],
   "source": [
    "file[['day_Thur', 'day_Fri', 'day_Sat', 'day_Sun']] = file[['day_Thur', 'day_Fri', 'day_Sat', 'day_Sun']].astype(int)"
   ]
  },
  {
   "cell_type": "code",
   "execution_count": 95,
   "id": "2e5bdfa5-6176-4f30-9045-acb22e337a75",
   "metadata": {},
   "outputs": [
    {
     "data": {
      "text/plain": [
       "['Dinner', 'Lunch']\n",
       "Categories (2, object): ['Lunch', 'Dinner']"
      ]
     },
     "execution_count": 95,
     "metadata": {},
     "output_type": "execute_result"
    }
   ],
   "source": [
    "file['time'].unique()"
   ]
  },
  {
   "cell_type": "code",
   "execution_count": 97,
   "id": "9986ea32-9a2a-4bea-abbc-8cbd0b6c6060",
   "metadata": {},
   "outputs": [
    {
     "data": {
      "text/plain": [
       "['No', 'Yes']\n",
       "Categories (2, object): ['Yes', 'No']"
      ]
     },
     "execution_count": 97,
     "metadata": {},
     "output_type": "execute_result"
    }
   ],
   "source": [
    "file['smoker'].unique()"
   ]
  },
  {
   "cell_type": "code",
   "execution_count": 99,
   "id": "3231d750-aaa9-4b50-98ef-1052e79690f6",
   "metadata": {},
   "outputs": [
    {
     "data": {
      "text/html": [
       "<div>\n",
       "<style scoped>\n",
       "    .dataframe tbody tr th:only-of-type {\n",
       "        vertical-align: middle;\n",
       "    }\n",
       "\n",
       "    .dataframe tbody tr th {\n",
       "        vertical-align: top;\n",
       "    }\n",
       "\n",
       "    .dataframe thead th {\n",
       "        text-align: right;\n",
       "    }\n",
       "</style>\n",
       "<table border=\"1\" class=\"dataframe\">\n",
       "  <thead>\n",
       "    <tr style=\"text-align: right;\">\n",
       "      <th></th>\n",
       "      <th>total_bill</th>\n",
       "      <th>tip</th>\n",
       "      <th>sex</th>\n",
       "      <th>smoker</th>\n",
       "      <th>time</th>\n",
       "      <th>size</th>\n",
       "      <th>day_Thur</th>\n",
       "      <th>day_Fri</th>\n",
       "      <th>day_Sat</th>\n",
       "      <th>day_Sun</th>\n",
       "    </tr>\n",
       "  </thead>\n",
       "  <tbody>\n",
       "    <tr>\n",
       "      <th>0</th>\n",
       "      <td>16.99</td>\n",
       "      <td>1.01</td>\n",
       "      <td>1</td>\n",
       "      <td>0</td>\n",
       "      <td>1</td>\n",
       "      <td>2</td>\n",
       "      <td>0</td>\n",
       "      <td>0</td>\n",
       "      <td>0</td>\n",
       "      <td>1</td>\n",
       "    </tr>\n",
       "    <tr>\n",
       "      <th>1</th>\n",
       "      <td>10.34</td>\n",
       "      <td>1.66</td>\n",
       "      <td>0</td>\n",
       "      <td>0</td>\n",
       "      <td>1</td>\n",
       "      <td>3</td>\n",
       "      <td>0</td>\n",
       "      <td>0</td>\n",
       "      <td>0</td>\n",
       "      <td>1</td>\n",
       "    </tr>\n",
       "    <tr>\n",
       "      <th>2</th>\n",
       "      <td>21.01</td>\n",
       "      <td>3.50</td>\n",
       "      <td>0</td>\n",
       "      <td>0</td>\n",
       "      <td>1</td>\n",
       "      <td>3</td>\n",
       "      <td>0</td>\n",
       "      <td>0</td>\n",
       "      <td>0</td>\n",
       "      <td>1</td>\n",
       "    </tr>\n",
       "    <tr>\n",
       "      <th>3</th>\n",
       "      <td>23.68</td>\n",
       "      <td>3.31</td>\n",
       "      <td>0</td>\n",
       "      <td>0</td>\n",
       "      <td>1</td>\n",
       "      <td>2</td>\n",
       "      <td>0</td>\n",
       "      <td>0</td>\n",
       "      <td>0</td>\n",
       "      <td>1</td>\n",
       "    </tr>\n",
       "    <tr>\n",
       "      <th>4</th>\n",
       "      <td>24.59</td>\n",
       "      <td>3.61</td>\n",
       "      <td>1</td>\n",
       "      <td>0</td>\n",
       "      <td>1</td>\n",
       "      <td>4</td>\n",
       "      <td>0</td>\n",
       "      <td>0</td>\n",
       "      <td>0</td>\n",
       "      <td>1</td>\n",
       "    </tr>\n",
       "  </tbody>\n",
       "</table>\n",
       "</div>"
      ],
      "text/plain": [
       "   total_bill   tip  sex smoker time  size  day_Thur  day_Fri  day_Sat  \\\n",
       "0       16.99  1.01    1      0    1     2         0        0        0   \n",
       "1       10.34  1.66    0      0    1     3         0        0        0   \n",
       "2       21.01  3.50    0      0    1     3         0        0        0   \n",
       "3       23.68  3.31    0      0    1     2         0        0        0   \n",
       "4       24.59  3.61    1      0    1     4         0        0        0   \n",
       "\n",
       "   day_Sun  \n",
       "0        1  \n",
       "1        1  \n",
       "2        1  \n",
       "3        1  \n",
       "4        1  "
      ]
     },
     "execution_count": 99,
     "metadata": {},
     "output_type": "execute_result"
    }
   ],
   "source": [
    "file.head()"
   ]
  },
  {
   "cell_type": "code",
   "execution_count": 100,
   "id": "ee630b35-9358-4921-bbc4-0da1ef89f209",
   "metadata": {},
   "outputs": [
    {
     "data": {
      "text/html": [
       "<div>\n",
       "<style scoped>\n",
       "    .dataframe tbody tr th:only-of-type {\n",
       "        vertical-align: middle;\n",
       "    }\n",
       "\n",
       "    .dataframe tbody tr th {\n",
       "        vertical-align: top;\n",
       "    }\n",
       "\n",
       "    .dataframe thead th {\n",
       "        text-align: right;\n",
       "    }\n",
       "</style>\n",
       "<table border=\"1\" class=\"dataframe\">\n",
       "  <thead>\n",
       "    <tr style=\"text-align: right;\">\n",
       "      <th></th>\n",
       "      <th>total_bill</th>\n",
       "      <th>tip</th>\n",
       "      <th>sex</th>\n",
       "      <th>size</th>\n",
       "      <th>day_Thur</th>\n",
       "      <th>day_Fri</th>\n",
       "      <th>day_Sat</th>\n",
       "      <th>day_Sun</th>\n",
       "    </tr>\n",
       "  </thead>\n",
       "  <tbody>\n",
       "    <tr>\n",
       "      <th>count</th>\n",
       "      <td>244.000000</td>\n",
       "      <td>244.000000</td>\n",
       "      <td>244.000000</td>\n",
       "      <td>244.000000</td>\n",
       "      <td>244.000000</td>\n",
       "      <td>244.000000</td>\n",
       "      <td>244.000000</td>\n",
       "      <td>244.000000</td>\n",
       "    </tr>\n",
       "    <tr>\n",
       "      <th>mean</th>\n",
       "      <td>19.785943</td>\n",
       "      <td>2.998279</td>\n",
       "      <td>0.356557</td>\n",
       "      <td>2.569672</td>\n",
       "      <td>0.254098</td>\n",
       "      <td>0.077869</td>\n",
       "      <td>0.356557</td>\n",
       "      <td>0.311475</td>\n",
       "    </tr>\n",
       "    <tr>\n",
       "      <th>std</th>\n",
       "      <td>8.902412</td>\n",
       "      <td>1.383638</td>\n",
       "      <td>0.479967</td>\n",
       "      <td>0.951100</td>\n",
       "      <td>0.436248</td>\n",
       "      <td>0.268516</td>\n",
       "      <td>0.479967</td>\n",
       "      <td>0.464049</td>\n",
       "    </tr>\n",
       "    <tr>\n",
       "      <th>min</th>\n",
       "      <td>3.070000</td>\n",
       "      <td>1.000000</td>\n",
       "      <td>0.000000</td>\n",
       "      <td>1.000000</td>\n",
       "      <td>0.000000</td>\n",
       "      <td>0.000000</td>\n",
       "      <td>0.000000</td>\n",
       "      <td>0.000000</td>\n",
       "    </tr>\n",
       "    <tr>\n",
       "      <th>25%</th>\n",
       "      <td>13.347500</td>\n",
       "      <td>2.000000</td>\n",
       "      <td>0.000000</td>\n",
       "      <td>2.000000</td>\n",
       "      <td>0.000000</td>\n",
       "      <td>0.000000</td>\n",
       "      <td>0.000000</td>\n",
       "      <td>0.000000</td>\n",
       "    </tr>\n",
       "    <tr>\n",
       "      <th>50%</th>\n",
       "      <td>17.795000</td>\n",
       "      <td>2.900000</td>\n",
       "      <td>0.000000</td>\n",
       "      <td>2.000000</td>\n",
       "      <td>0.000000</td>\n",
       "      <td>0.000000</td>\n",
       "      <td>0.000000</td>\n",
       "      <td>0.000000</td>\n",
       "    </tr>\n",
       "    <tr>\n",
       "      <th>75%</th>\n",
       "      <td>24.127500</td>\n",
       "      <td>3.562500</td>\n",
       "      <td>1.000000</td>\n",
       "      <td>3.000000</td>\n",
       "      <td>1.000000</td>\n",
       "      <td>0.000000</td>\n",
       "      <td>1.000000</td>\n",
       "      <td>1.000000</td>\n",
       "    </tr>\n",
       "    <tr>\n",
       "      <th>max</th>\n",
       "      <td>50.810000</td>\n",
       "      <td>10.000000</td>\n",
       "      <td>1.000000</td>\n",
       "      <td>6.000000</td>\n",
       "      <td>1.000000</td>\n",
       "      <td>1.000000</td>\n",
       "      <td>1.000000</td>\n",
       "      <td>1.000000</td>\n",
       "    </tr>\n",
       "  </tbody>\n",
       "</table>\n",
       "</div>"
      ],
      "text/plain": [
       "       total_bill         tip         sex        size    day_Thur     day_Fri  \\\n",
       "count  244.000000  244.000000  244.000000  244.000000  244.000000  244.000000   \n",
       "mean    19.785943    2.998279    0.356557    2.569672    0.254098    0.077869   \n",
       "std      8.902412    1.383638    0.479967    0.951100    0.436248    0.268516   \n",
       "min      3.070000    1.000000    0.000000    1.000000    0.000000    0.000000   \n",
       "25%     13.347500    2.000000    0.000000    2.000000    0.000000    0.000000   \n",
       "50%     17.795000    2.900000    0.000000    2.000000    0.000000    0.000000   \n",
       "75%     24.127500    3.562500    1.000000    3.000000    1.000000    0.000000   \n",
       "max     50.810000   10.000000    1.000000    6.000000    1.000000    1.000000   \n",
       "\n",
       "          day_Sat     day_Sun  \n",
       "count  244.000000  244.000000  \n",
       "mean     0.356557    0.311475  \n",
       "std      0.479967    0.464049  \n",
       "min      0.000000    0.000000  \n",
       "25%      0.000000    0.000000  \n",
       "50%      0.000000    0.000000  \n",
       "75%      1.000000    1.000000  \n",
       "max      1.000000    1.000000  "
      ]
     },
     "execution_count": 100,
     "metadata": {},
     "output_type": "execute_result"
    }
   ],
   "source": [
    "file.describe()"
   ]
  },
  {
   "cell_type": "code",
   "execution_count": 107,
   "id": "afda8bc9-d1ac-4131-b42c-0fe38bd53155",
   "metadata": {},
   "outputs": [],
   "source": [
    "file['time'] = file['time'].astype(int)"
   ]
  },
  {
   "cell_type": "code",
   "execution_count": 105,
   "id": "6a301ece-65ef-4da8-9c79-62b4c2db4e01",
   "metadata": {},
   "outputs": [],
   "source": [
    "file['smoker'] = file['smoker'].astype(int)"
   ]
  },
  {
   "cell_type": "code",
   "execution_count": 109,
   "id": "726989c2-913d-45b7-bd15-888cad715dfa",
   "metadata": {},
   "outputs": [
    {
     "name": "stdout",
     "output_type": "stream",
     "text": [
      "<class 'pandas.core.frame.DataFrame'>\n",
      "RangeIndex: 244 entries, 0 to 243\n",
      "Data columns (total 10 columns):\n",
      " #   Column      Non-Null Count  Dtype  \n",
      "---  ------      --------------  -----  \n",
      " 0   total_bill  244 non-null    float64\n",
      " 1   tip         244 non-null    float64\n",
      " 2   sex         244 non-null    int64  \n",
      " 3   smoker      244 non-null    int64  \n",
      " 4   time        244 non-null    int64  \n",
      " 5   size        244 non-null    int64  \n",
      " 6   day_Thur    244 non-null    int64  \n",
      " 7   day_Fri     244 non-null    int64  \n",
      " 8   day_Sat     244 non-null    int64  \n",
      " 9   day_Sun     244 non-null    int64  \n",
      "dtypes: float64(2), int64(8)\n",
      "memory usage: 19.2 KB\n"
     ]
    }
   ],
   "source": [
    "file.info()"
   ]
  },
  {
   "cell_type": "markdown",
   "id": "2ce31d85-2b35-4a54-80e8-14788776be34",
   "metadata": {},
   "source": [
    "## Finding Statistical Computation"
   ]
  },
  {
   "cell_type": "code",
   "execution_count": 111,
   "id": "7bafe01f-e6ef-40f3-ace7-ca511af2f168",
   "metadata": {},
   "outputs": [
    {
     "name": "stdout",
     "output_type": "stream",
     "text": [
      "0.48666699935945246\n"
     ]
    }
   ],
   "source": [
    "print(statistics.stdev(file['smoker']))"
   ]
  },
  {
   "cell_type": "code",
   "execution_count": 118,
   "id": "dae923ff-09d5-4c7c-b2ad-445c67ec0a1a",
   "metadata": {},
   "outputs": [
    {
     "name": "stdout",
     "output_type": "stream",
     "text": [
      "total_bill    19.785943\n",
      "tip            2.998279\n",
      "sex            0.356557\n",
      "smoker         0.381148\n",
      "time           0.721311\n",
      "size           2.569672\n",
      "day_Thur       0.254098\n",
      "day_Fri        0.077869\n",
      "day_Sat        0.356557\n",
      "day_Sun        0.311475\n",
      "dtype: float64\n"
     ]
    }
   ],
   "source": [
    "print(file.mean())"
   ]
  },
  {
   "cell_type": "code",
   "execution_count": 122,
   "id": "a971a963-d4bf-47b2-a1e8-6b463001f728",
   "metadata": {},
   "outputs": [
    {
     "name": "stdout",
     "output_type": "stream",
     "text": [
      "2.99827868852459\n"
     ]
    }
   ],
   "source": [
    "print(file['tip'].mean())"
   ]
  },
  {
   "cell_type": "code",
   "execution_count": 120,
   "id": "0c89014e-3675-4e05-9d14-a174d32ea6df",
   "metadata": {},
   "outputs": [
    {
     "name": "stdout",
     "output_type": "stream",
     "text": [
      "0.35655737704918034\n"
     ]
    }
   ],
   "source": [
    "print(file['sex'].mean())"
   ]
  },
  {
   "cell_type": "code",
   "execution_count": 116,
   "id": "4702e302-ebf6-4bde-a907-a10f6236a334",
   "metadata": {},
   "outputs": [
    {
     "name": "stdout",
     "output_type": "stream",
     "text": [
      "total_bill    17.795\n",
      "tip            2.900\n",
      "sex            0.000\n",
      "smoker         0.000\n",
      "time           1.000\n",
      "size           2.000\n",
      "day_Thur       0.000\n",
      "day_Fri        0.000\n",
      "day_Sat        0.000\n",
      "day_Sun        0.000\n",
      "dtype: float64\n"
     ]
    }
   ],
   "source": [
    "print(file.median())"
   ]
  },
  {
   "cell_type": "code",
   "execution_count": 123,
   "id": "35e191a0-1ab5-4e21-ba18-c6b35bea7801",
   "metadata": {},
   "outputs": [
    {
     "name": "stdout",
     "output_type": "stream",
     "text": [
      "17.795\n"
     ]
    }
   ],
   "source": [
    "print(file['total_bill'].median())"
   ]
  },
  {
   "cell_type": "code",
   "execution_count": 117,
   "id": "ed97bcbd-1b27-44dd-8bb7-0ecc661ab9e6",
   "metadata": {},
   "outputs": [
    {
     "name": "stdout",
     "output_type": "stream",
     "text": [
      "   total_bill  tip  sex  smoker  time  size  day_Thur  day_Fri  day_Sat  \\\n",
      "0       13.42  2.0    0       0     1     2         0        0        0   \n",
      "\n",
      "   day_Sun  \n",
      "0        0  \n"
     ]
    }
   ],
   "source": [
    "print(file.mode())"
   ]
  },
  {
   "cell_type": "code",
   "execution_count": 115,
   "id": "e77888af-2446-410c-aaad-7477fc271ba8",
   "metadata": {},
   "outputs": [
    {
     "name": "stdout",
     "output_type": "stream",
     "text": [
      "total_bill    8.902412\n",
      "tip           1.383638\n",
      "sex           0.479967\n",
      "smoker        0.486667\n",
      "time          0.449276\n",
      "size          0.951100\n",
      "day_Thur      0.436248\n",
      "day_Fri       0.268516\n",
      "day_Sat       0.479967\n",
      "day_Sun       0.464049\n",
      "dtype: float64\n"
     ]
    }
   ],
   "source": [
    "print(file.std())"
   ]
  },
  {
   "cell_type": "code",
   "execution_count": 121,
   "id": "47f3779a-d70e-427d-bcd6-3bbe71a75e8c",
   "metadata": {},
   "outputs": [
    {
     "name": "stdout",
     "output_type": "stream",
     "text": [
      "8.902411954856856\n"
     ]
    }
   ],
   "source": [
    "print(statistics.stdev(file['total_bill']))"
   ]
  }
 ],
 "metadata": {
  "kernelspec": {
   "display_name": "Python [conda env:base] *",
   "language": "python",
   "name": "conda-base-py"
  },
  "language_info": {
   "codemirror_mode": {
    "name": "ipython",
    "version": 3
   },
   "file_extension": ".py",
   "mimetype": "text/x-python",
   "name": "python",
   "nbconvert_exporter": "python",
   "pygments_lexer": "ipython3",
   "version": "3.13.5"
  }
 },
 "nbformat": 4,
 "nbformat_minor": 5
}
